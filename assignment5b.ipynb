{
 "cells": [
  {
   "cell_type": "code",
   "execution_count": 4,
   "id": "4e669311",
   "metadata": {
    "scrolled": true
   },
   "outputs": [
    {
     "name": "stdout",
     "output_type": "stream",
     "text": [
      "20  you are Teen_Age\n"
     ]
    }
   ],
   "source": [
    "my_Age=20\n",
    "if my_Age>=18:\n",
    "    print(my_Age,\" you are Teen_Age\")"
   ]
  },
  {
   "cell_type": "code",
   "execution_count": 10,
   "id": "d9f95045",
   "metadata": {},
   "outputs": [
    {
     "name": "stdout",
     "output_type": "stream",
     "text": [
      "30 you are young_Age\n"
     ]
    }
   ],
   "source": [
    "my_Age=30\n",
    "if my_Age>=20:\n",
    "    print(my_Age,\"you are young_Age\")"
   ]
  },
  {
   "cell_type": "code",
   "execution_count": 11,
   "id": "60462462",
   "metadata": {},
   "outputs": [
    {
     "name": "stdout",
     "output_type": "stream",
     "text": [
      "10 you are Teen_Age\n"
     ]
    }
   ],
   "source": [
    "my_Age=10\n",
    "if my_Age<=20:\n",
    "    print(my_Age,\"you are Teen_Age\")"
   ]
  },
  {
   "cell_type": "code",
   "execution_count": 12,
   "id": "b4404e1b",
   "metadata": {},
   "outputs": [
    {
     "name": "stdout",
     "output_type": "stream",
     "text": [
      "40 you are young_Age\n"
     ]
    }
   ],
   "source": [
    "my_Age=40\n",
    "if my_Age>=20:\n",
    "    print(my_Age,\"you are young_Age\")\n",
    "else:\n",
    "    print(my_Age,\"you are teen_age\")\n"
   ]
  },
  {
   "cell_type": "code",
   "execution_count": 6,
   "id": "aad97b14",
   "metadata": {},
   "outputs": [
    {
     "name": "stdout",
     "output_type": "stream",
     "text": [
      "Monday\n",
      "--------------weekday\n",
      "Tuesday\n",
      "---------weekday\n",
      "Wendsday\n",
      "--------weekday\n",
      "Thursday\n",
      "---------weekday\n",
      "Friday\n",
      "----------weekday\n",
      "Saturday\n",
      "---------weekend\n",
      "Sunday\n",
      "---------weekend\n"
     ]
    }
   ],
   "source": [
    "lst_mnts=[\"Monday\",\"Tuesday\",\"Wendsday\",\"Thursday\",\"Friday\",\"Saturday\",\"Sunday\"]\n",
    "for p in lst_mnts:\n",
    "    print(p)\n",
    "    if p==\"Monday\":\n",
    "        print(\"--------------weekday\")\n",
    "    elif p==\"Tuesday\":\n",
    "        print(\"---------weekday\")\n",
    "    elif p==\"Wendsday\":\n",
    "        print(\"--------weekday\")\n",
    "    elif p==\"Thursday\":\n",
    "        print(\"---------weekday\")\n",
    "    elif p==\"Friday\":\n",
    "        print(\"----------weekday\")\n",
    "    else:\n",
    "        print(\"---------weekend\")"
   ]
  },
  {
   "cell_type": "code",
   "execution_count": 9,
   "id": "17e0e85c",
   "metadata": {},
   "outputs": [
    {
     "name": "stdout",
     "output_type": "stream",
     "text": [
      "I am Profitable\n"
     ]
    }
   ],
   "source": [
    "Income=10\n",
    "if Income>=10:\n",
    "    print(\"I am Profitable\")\n",
    "else:\n",
    "    print(\"I lost\")"
   ]
  },
  {
   "cell_type": "code",
   "execution_count": 13,
   "id": "e49e148b",
   "metadata": {},
   "outputs": [
    {
     "name": "stdout",
     "output_type": "stream",
     "text": [
      "iam elder\n"
     ]
    }
   ],
   "source": [
    "my_age=20\n",
    "if my_age>=20:\n",
    "    print(\"iam elder\")\n",
    "else:\n",
    "    print(\"iam younger\")\n"
   ]
  },
  {
   "cell_type": "code",
   "execution_count": 15,
   "id": "c3cb532c",
   "metadata": {},
   "outputs": [
    {
     "name": "stdout",
     "output_type": "stream",
     "text": [
      "20% discount\n"
     ]
    }
   ],
   "source": [
    "purchase_amount=100\n",
    "if purchase_amount>100:\n",
    "    print(\"30% discount\")\n",
    "elif purchase_amount<50:\n",
    "    print(\"10% discount\")\n",
    "else:\n",
    "    print(\"20% discount\")"
   ]
  },
  {
   "cell_type": "code",
   "execution_count": 16,
   "id": "1d290f4d",
   "metadata": {},
   "outputs": [
    {
     "name": "stdout",
     "output_type": "stream",
     "text": [
      "140\n",
      "Balcony\n",
      "50\n",
      "Chair\n",
      "100\n",
      "Bench\n"
     ]
    }
   ],
   "source": [
    "Movie_Theater_Prices=[140,50,100]\n",
    "for p in Movie_Theater_Prices:\n",
    "    print(p)\n",
    "    if p==140:\n",
    "        print(\"Balcony\")\n",
    "    elif p==50:\n",
    "        print(\"Chair\")\n",
    "    else:\n",
    "        print(\"Bench\")"
   ]
  },
  {
   "cell_type": "code",
   "execution_count": 17,
   "id": "092c5f6e",
   "metadata": {},
   "outputs": [
    {
     "name": "stdout",
     "output_type": "stream",
     "text": [
      "four wheeler\n"
     ]
    }
   ],
   "source": [
    "vehicle=\"car\"\n",
    "if vehicle==\"bike\" or vehicle==\"scooty\":\n",
    "    print(\"Two Wheeler\")\n",
    "elif vehicle==\"car\" or vehicle==\"lorry\" or vehicle==\"van\" or vehicle==\"Jeep\":\n",
    "    print(\"four wheeler\")"
   ]
  },
  {
   "cell_type": "code",
   "execution_count": null,
   "id": "81d45461",
   "metadata": {},
   "outputs": [],
   "source": []
  }
 ],
 "metadata": {
  "kernelspec": {
   "display_name": "Python 3 (ipykernel)",
   "language": "python",
   "name": "python3"
  },
  "language_info": {
   "codemirror_mode": {
    "name": "ipython",
    "version": 3
   },
   "file_extension": ".py",
   "mimetype": "text/x-python",
   "name": "python",
   "nbconvert_exporter": "python",
   "pygments_lexer": "ipython3",
   "version": "3.10.9"
  }
 },
 "nbformat": 4,
 "nbformat_minor": 5
}
